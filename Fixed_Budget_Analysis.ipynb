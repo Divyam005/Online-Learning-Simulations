{
  "nbformat": 4,
  "nbformat_minor": 0,
  "metadata": {
    "colab": {
      "name": "Fixed Budget Analysis.ipynb",
      "provenance": []
    },
    "kernelspec": {
      "name": "python3",
      "display_name": "Python 3"
    }
  },
  "cells": [
    {
      "cell_type": "code",
      "metadata": {
        "id": "F8cxAtHI-Wd4",
        "colab_type": "code",
        "colab": {}
      },
      "source": [
        "import numpy as np\n",
        "import matplotlib.pyplot as plt"
      ],
      "execution_count": 0,
      "outputs": []
    },
    {
      "cell_type": "code",
      "metadata": {
        "id": "aL0eSC6--ggZ",
        "colab_type": "code",
        "colab": {}
      },
      "source": [
        "n = 200\n",
        "m = 5\n",
        "N = 100\n",
        "runs = 200\n",
        "d = [30,40,15,10,5]\n",
        "com = np.zeros(N)\n",
        "pop = np.arange(N)\n",
        "v = 0\n",
        "idx = 0\n",
        "for i in d:\n",
        "  com[idx:(idx+i)] = v\n",
        "  idx += i\n",
        "  v += 1"
      ],
      "execution_count": 0,
      "outputs": []
    },
    {
      "cell_type": "code",
      "metadata": {
        "id": "bHRPlGhNDhV0",
        "colab_type": "code",
        "colab": {}
      },
      "source": [
        "def unique_sampling(pop,com,m,n):\n",
        "  dist_samp = []\n",
        "  for i in range(m):\n",
        "    dist_samp.append([])\n",
        "  mean = np.zeros(m)\n",
        "  for i in range(n):\n",
        "    person = np.random.choice(pop,1)\n",
        "    community = com[person]\n",
        "    if person in np.array(dist_samp[int(community)]):\n",
        "      continue\n",
        "    else:\n",
        "      dist_samp[int(community)].append(person)\n",
        "      mean[int(community)] +=1\n",
        "  return mean"
      ],
      "execution_count": 0,
      "outputs": []
    },
    {
      "cell_type": "code",
      "metadata": {
        "id": "5bZl9TezT6KA",
        "colab_type": "code",
        "colab": {}
      },
      "source": [
        "def regular_sampling(pop,com,m,n):\n",
        "  mean = np.zeros(m)\n",
        "  for i in range(n):\n",
        "    person = np.random.choice(pop,1)\n",
        "    community = com[person]\n",
        "    mean[int(community)] +=1\n",
        "  return mean"
      ],
      "execution_count": 0,
      "outputs": []
    },
    {
      "cell_type": "code",
      "metadata": {
        "id": "U1SfPQyO-5hI",
        "colab_type": "code",
        "colab": {}
      },
      "source": [
        "error_dist = []\n",
        "error_reg = []\n",
        "samps = []\n",
        "for i in range(N):\n",
        "  n = N+i*10\n",
        "  samps.append(n)\n",
        "  error_d = 0\n",
        "  error_r = 0\n",
        "  for jk in range(runs):\n",
        "    mean_d = unique_sampling(pop,com,m,n)\n",
        "    mean_r = regular_sampling(pop,com,m,n)\n",
        "    if not(np.argmax(mean_d) == d.index(max(d))):\n",
        "      error_d += 1\n",
        "    if not(np.argmax(mean_r) == d.index(max(d))):\n",
        "      error_r += 1\n",
        "    # print(np.argmax(mean))\n",
        "  error_dist.append(error_d/runs)\n",
        "  error_reg.append(error_r/runs)\n",
        "\n"
      ],
      "execution_count": 0,
      "outputs": []
    },
    {
      "cell_type": "code",
      "metadata": {
        "id": "Zmo04tusTKJv",
        "colab_type": "code",
        "colab": {
          "base_uri": "https://localhost:8080/",
          "height": 295
        },
        "outputId": "b6919a5b-3a74-4fdf-c85e-a75ab36c9b55"
      },
      "source": [
        "from google.colab import files\n",
        "plt.figure()\n",
        "plt.plot(samps,error_dist)\n",
        "plt.plot(samps,error_reg)\n",
        "plt.legend(['Identity','No Identity'])\n",
        "plt.title('Population = [30,40,15,10,5]')\n",
        "plt.xlabel(\"Number of Samples\")\n",
        "plt.ylabel(\"Error Fraction\")\n",
        "plt.savefig(\"distinct_sampling.jpg\")\n",
        "files.download(\"distinct_sampling.jpg\")\n",
        "plt.show()"
      ],
      "execution_count": 22,
      "outputs": [
        {
          "output_type": "display_data",
          "data": {
            "image/png": "[encoded data removed]",
            "text/plain": [
              "<Figure size 432x288 with 1 Axes>"
            ]
          },
          "metadata": {
            "tags": [],
            "needs_background": "light"
          }
        }
      ]
    }
  ]
}